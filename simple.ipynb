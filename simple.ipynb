{
 "cells": [
  {
   "cell_type": "code",
   "execution_count": 5,
   "id": "582ae6d7-fb36-44a1-924b-a1a5b037c643",
   "metadata": {},
   "outputs": [
    {
     "name": "stdin",
     "output_type": "stream",
     "text": [
      "Enter the princpal amount: 1000\n",
      "Enter the rate of intrest (in %): 20\n",
      "Enter tetme period( in years): 3\n"
     ]
    },
    {
     "name": "stdout",
     "output_type": "stream",
     "text": [
      "Simple Intrest:600.00\n",
      "Total Amount:1600.00\n"
     ]
    }
   ],
   "source": [
    "principal=float(input(\"Enter the princpal amount:\"))\n",
    "rate_of_intrest=float(input(\"Enter the rate of intrest (in %):\"))\n",
    "time=float(input(\"Enter tetme period( in years):\"))\n",
    "simple_intrest=(principal*rate_of_intrest*time)/100\n",
    "total_amount=principal+simple_intrest\n",
    "print(\"Simple Intrest:{:.2f}\".format(simple_intrest))\n",
    "print(\"Total Amount:{:.2f}\".format(total_amount))\n"
   ]
  },
  {
   "cell_type": "code",
   "execution_count": null,
   "id": "396a64a4-7434-4379-9161-50292ec5b8e5",
   "metadata": {},
   "outputs": [],
   "source": []
  }
 ],
 "metadata": {
  "kernelspec": {
   "display_name": "Python 3 (ipykernel)",
   "language": "python",
   "name": "python3"
  },
  "language_info": {
   "codemirror_mode": {
    "name": "ipython",
    "version": 3
   },
   "file_extension": ".py",
   "mimetype": "text/x-python",
   "name": "python",
   "nbconvert_exporter": "python",
   "pygments_lexer": "ipython3",
   "version": "3.12.4"
  }
 },
 "nbformat": 4,
 "nbformat_minor": 5
}
